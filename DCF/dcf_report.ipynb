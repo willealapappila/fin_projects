{
 "cells": [
  {
   "cell_type": "code",
   "execution_count": 4,
   "metadata": {},
   "outputs": [],
   "source": [
    "import numpy as np\n",
    "import matplotlib.pyplot as plt\n",
    "import pandas as pd\n",
    "import requests\n",
    "\n"
   ]
  },
  {
   "cell_type": "code",
   "execution_count": 33,
   "metadata": {},
   "outputs": [
    {
     "name": "stdout",
     "output_type": "stream",
     "text": [
      "['https://www.alphavantage.co/query?function=INCOME_STATEMENT&symbol=AAPL&apikey=YQNMY7NTE6WNSFFH', 'https://www.alphavantage.co/query?function=INCOME_STATEMENT&symbol=MSFT&apikey=YQNMY7NTE6WNSFFH']\n",
      "{'AAPL': {'Information': 'We have detected your API key as YQNMY7NTE6WNSFFH and our standard API rate limit is 25 requests per day. Please subscribe to any of the premium plans at https://www.alphavantage.co/premium/ to instantly remove all daily rate limits.'}, 'MSFT': {'Information': 'We have detected your API key as YQNMY7NTE6WNSFFH and our standard API rate limit is 25 requests per day. Please subscribe to any of the premium plans at https://www.alphavantage.co/premium/ to instantly remove all daily rate limits.'}}\n"
     ]
    },
    {
     "ename": "KeyError",
     "evalue": "'annualReports'",
     "output_type": "error",
     "traceback": [
      "\u001b[1;31m---------------------------------------------------------------------------\u001b[0m",
      "\u001b[1;31mKeyError\u001b[0m                                  Traceback (most recent call last)",
      "Cell \u001b[1;32mIn[33], line 19\u001b[0m\n\u001b[0;32m     16\u001b[0m \u001b[38;5;66;03m# data = r.json()\u001b[39;00m\n\u001b[0;32m     18\u001b[0m \u001b[38;5;28mprint\u001b[39m(data_prices)\n\u001b[1;32m---> 19\u001b[0m \u001b[38;5;28mprint\u001b[39m(pd\u001b[38;5;241m.\u001b[39mDataFrame(\u001b[43mdata_prices\u001b[49m\u001b[43m[\u001b[49m\u001b[38;5;124;43m'\u001b[39;49m\u001b[38;5;124;43mAAPL\u001b[39;49m\u001b[38;5;124;43m'\u001b[39;49m\u001b[43m]\u001b[49m\u001b[43m[\u001b[49m\u001b[38;5;124;43m'\u001b[39;49m\u001b[38;5;124;43mannualReports\u001b[39;49m\u001b[38;5;124;43m'\u001b[39;49m\u001b[43m]\u001b[49m)\u001b[38;5;241m.\u001b[39mT)\n\u001b[0;32m     21\u001b[0m \u001b[38;5;66;03m# df_prices = pd.DataFrame(data_prices['Weekly Adjusted Time Series']).T\u001b[39;00m\n\u001b[0;32m     22\u001b[0m list_prices \u001b[38;5;241m=\u001b[39m [pd\u001b[38;5;241m.\u001b[39mDataFrame(data_prices[ticker][\u001b[38;5;124m'\u001b[39m\u001b[38;5;124mquarterlyReports\u001b[39m\u001b[38;5;124m'\u001b[39m])\u001b[38;5;241m.\u001b[39mT \u001b[38;5;28;01mfor\u001b[39;00m ticker \u001b[38;5;129;01min\u001b[39;00m tickers]\n",
      "\u001b[1;31mKeyError\u001b[0m: 'annualReports'"
     ]
    }
   ],
   "source": [
    "tickers = ['AAPL', 'MSFT']\n",
    "api_key = open('C:\\\\PROJECTS\\\\api_key.txt', \"r\").read() # read the api key from a file, ADD YOUR OWN API KEY\n",
    "# data_category = 'TIME_SERIES_WEEKLY_ADJUSTED'\n",
    "data_category = 'INCOME_STATEMENT'\n",
    "\n",
    "urls = ['https://www.alphavantage.co/query?function=' + data_category + '&symbol=' + ticker + '&apikey=' + api_key for ticker in tickers]"
   ]
  },
  {
   "cell_type": "code",
   "execution_count": null,
   "metadata": {},
   "outputs": [],
   "source": [
    "print(urls)\n",
    "\n",
    "reqs = [requests.get(url) for url in urls]\n",
    "\n",
    "\n",
    "data_prices = {}\n",
    "for ticker in tickers:\n",
    "    data_prices[ticker] = reqs[tickers.index(ticker)].json()\n",
    "# data = r.json()\n",
    "\n",
    "print(data_prices)\n",
    "print(pd.DataFrame(data_prices['AAPL']['annualReports']).T)\n",
    "\n",
    "# df_prices = pd.DataFrame(data_prices['Weekly Adjusted Time Series']).T\n",
    "list_prices = [pd.DataFrame(data_prices[ticker]['quarterlyReports']).T for ticker in tickers]\n",
    "df_prices = pd.concat(list_prices, keys=tickers)\n",
    "\n",
    "print(df_prices)"
   ]
  },
  {
   "cell_type": "code",
   "execution_count": null,
   "metadata": {},
   "outputs": [],
   "source": []
  }
 ],
 "metadata": {
  "kernelspec": {
   "display_name": "Python 3",
   "language": "python",
   "name": "python3"
  },
  "language_info": {
   "codemirror_mode": {
    "name": "ipython",
    "version": 3
   },
   "file_extension": ".py",
   "mimetype": "text/x-python",
   "name": "python",
   "nbconvert_exporter": "python",
   "pygments_lexer": "ipython3",
   "version": "3.11.9"
  }
 },
 "nbformat": 4,
 "nbformat_minor": 2
}
